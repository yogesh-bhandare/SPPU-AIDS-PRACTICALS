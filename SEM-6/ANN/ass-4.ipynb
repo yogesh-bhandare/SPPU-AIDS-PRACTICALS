{
 "cells": [
  {
   "cell_type": "code",
   "execution_count": 1,
   "id": "b6fc3861",
   "metadata": {},
   "outputs": [],
   "source": [
    "import numpy as np\n",
    "import matplotlib.pyplot as plt"
   ]
  },
  {
   "cell_type": "code",
   "execution_count": 2,
   "id": "7393eb9d",
   "metadata": {},
   "outputs": [],
   "source": [
    "# Perceptron Learning Algorithm\n",
    "def perceptron_learning(X, y, learning_rate=0.1, epochs=100):\n",
    "    # Initialize weights and bias\n",
    "    weights = np.zeros(X.shape[1])\n",
    "    bias = 0\n",
    "    \n",
    "    for epoch in range(epochs):\n",
    "        for i in range(X.shape[0]):\n",
    "            # Compute the prediction\n",
    "            prediction = np.dot(X[i], weights) + bias\n",
    "            # Apply the step function (activation function)\n",
    "            prediction = 1 if prediction >= 0 else -1\n",
    "            \n",
    "            # Update weights and bias if misclassified\n",
    "            if prediction != y[i]:\n",
    "                weights += learning_rate * y[i] * X[i]\n",
    "                bias += learning_rate * y[i]\n",
    "        \n",
    "        # Print weights and bias for each epoch (optional)\n",
    "        print(f\"Epoch {epoch + 1}: Weights = {weights}, Bias = {bias}\")\n",
    "    \n",
    "    return weights, bias"
   ]
  },
  {
   "cell_type": "code",
   "execution_count": 3,
   "id": "a21f46ce",
   "metadata": {},
   "outputs": [],
   "source": [
    "# Function to plot decision regions\n",
    "def plot_decision_regions(X, y, weights, bias):\n",
    "    # Plot the data points\n",
    "    plt.scatter(X[y == 1, 0], X[y == 1, 1], color='blue', label='Class 1', marker='o')\n",
    "    plt.scatter(X[y == -1, 0], X[y == -1, 1], color='red', label='Class -1', marker='x')\n",
    "    \n",
    "    # Plot the decision boundary\n",
    "    x1 = np.linspace(-2, 4, 100)\n",
    "    x2 = -(weights[0] * x1 + bias) / weights[1]  # Decision boundary equation: w1*x1 + w2*x2 + b = 0\n",
    "    plt.plot(x1, x2, color='green', label='Decision Boundary')\n",
    "    \n",
    "    # Add labels and legend\n",
    "    plt.xlabel('Feature 1 (x1)')\n",
    "    plt.ylabel('Feature 2 (x2)')\n",
    "    plt.title('Perceptron Decision Regions')\n",
    "    plt.legend()\n",
    "    plt.grid(True)\n",
    "    plt.show()"
   ]
  },
  {
   "cell_type": "code",
   "execution_count": 7,
   "id": "e991a134",
   "metadata": {},
   "outputs": [
    {
     "name": "stdout",
     "output_type": "stream",
     "text": [
      "Epoch 1: Weights = [-0.1  0.1], Bias = -0.1\n",
      "Epoch 2: Weights = [-0.2  0. ], Bias = -0.2\n",
      "Epoch 3: Weights = [-0.4 -0.1], Bias = -0.2\n",
      "Epoch 4: Weights = [-0.5  0.2], Bias = -0.2\n",
      "Epoch 5: Weights = [-0.5  0.3], Bias = -0.2\n",
      "Epoch 6: Weights = [-0.5  0.4], Bias = -0.2\n",
      "Epoch 7: Weights = [-0.6  0.3], Bias = -0.30000000000000004\n",
      "Epoch 8: Weights = [-0.6  0.4], Bias = -0.30000000000000004\n",
      "Epoch 9: Weights = [-0.6  0.5], Bias = -0.30000000000000004\n",
      "Epoch 10: Weights = [-0.7  0.4], Bias = -0.4\n",
      "Epoch 11: Weights = [-0.7  0.5], Bias = -0.4\n",
      "Epoch 12: Weights = [-0.7  0.6], Bias = -0.4\n",
      "Epoch 13: Weights = [-0.6  0.6], Bias = -0.4\n",
      "Epoch 14: Weights = [-0.7  0.5], Bias = -0.5\n",
      "Epoch 15: Weights = [-0.7  0.6], Bias = -0.5\n",
      "Epoch 16: Weights = [-0.8  0.6], Bias = -0.5\n",
      "Epoch 17: Weights = [-0.8  0.7], Bias = -0.5\n",
      "Epoch 18: Weights = [-0.7  0.7], Bias = -0.5\n",
      "Epoch 19: Weights = [-0.6  0.7], Bias = -0.5\n",
      "Epoch 20: Weights = [-0.7  0.6], Bias = -0.6\n",
      "Epoch 21: Weights = [-0.7  0.7], Bias = -0.6\n",
      "Epoch 22: Weights = [-0.6  0.7], Bias = -0.6\n",
      "Epoch 23: Weights = [-0.7  0.6], Bias = -0.7\n",
      "Epoch 24: Weights = [-0.7  0.7], Bias = -0.7\n",
      "Epoch 25: Weights = [-0.6  0.7], Bias = -0.7\n",
      "Epoch 26: Weights = [-0.5  0.7], Bias = -0.7\n",
      "Epoch 27: Weights = [-0.6  0.6], Bias = -0.7999999999999999\n",
      "Epoch 28: Weights = [-0.6  0.7], Bias = -0.7999999999999999\n",
      "Epoch 29: Weights = [-0.5  0.7], Bias = -0.7999999999999999\n",
      "Epoch 30: Weights = [-0.6  0.6], Bias = -0.8999999999999999\n",
      "Epoch 31: Weights = [-0.6  0.7], Bias = -0.8999999999999999\n",
      "Epoch 32: Weights = [-0.6  0.8], Bias = -0.8999999999999999\n",
      "Epoch 33: Weights = [-0.5  0.8], Bias = -0.8999999999999999\n",
      "Epoch 34: Weights = [-0.6  0.7], Bias = -0.9999999999999999\n",
      "Epoch 35: Weights = [-0.6  0.8], Bias = -0.9999999999999999\n",
      "Epoch 36: Weights = [-0.8  0.7], Bias = -0.9999999999999999\n",
      "Epoch 37: Weights = [-0.6  0.9], Bias = -0.8999999999999999\n",
      "Epoch 38: Weights = [-0.5  0.9], Bias = -0.8999999999999999\n",
      "Epoch 39: Weights = [-0.6  0.8], Bias = -0.9999999999999999\n",
      "Epoch 40: Weights = [-0.8  0.7], Bias = -0.9999999999999999\n",
      "Epoch 41: Weights = [-0.6  0.9], Bias = -0.8999999999999999\n",
      "Epoch 42: Weights = [-0.5  0.9], Bias = -0.8999999999999999\n",
      "Epoch 43: Weights = [-0.6  0.8], Bias = -0.9999999999999999\n",
      "Epoch 44: Weights = [-0.8  0.7], Bias = -0.9999999999999999\n",
      "Epoch 45: Weights = [-0.6  0.9], Bias = -0.8999999999999999\n",
      "Epoch 46: Weights = [-0.5  0.9], Bias = -0.8999999999999999\n",
      "Epoch 47: Weights = [-0.6  0.8], Bias = -0.9999999999999999\n",
      "Epoch 48: Weights = [-0.8  0.7], Bias = -0.9999999999999999\n",
      "Epoch 49: Weights = [-0.6  0.9], Bias = -0.8999999999999999\n",
      "Epoch 50: Weights = [-0.5  0.9], Bias = -0.8999999999999999\n",
      "Epoch 51: Weights = [-0.6  0.8], Bias = -0.9999999999999999\n",
      "Epoch 52: Weights = [-0.8  0.7], Bias = -0.9999999999999999\n",
      "Epoch 53: Weights = [-0.6  0.9], Bias = -0.8999999999999999\n",
      "Epoch 54: Weights = [-0.5  0.9], Bias = -0.8999999999999999\n",
      "Epoch 55: Weights = [-0.6  0.8], Bias = -0.9999999999999999\n",
      "Epoch 56: Weights = [-0.8  0.7], Bias = -0.9999999999999999\n",
      "Epoch 57: Weights = [-0.6  0.9], Bias = -0.8999999999999999\n",
      "Epoch 58: Weights = [-0.5  0.9], Bias = -0.8999999999999999\n",
      "Epoch 59: Weights = [-0.6  0.8], Bias = -0.9999999999999999\n",
      "Epoch 60: Weights = [-0.8  0.7], Bias = -0.9999999999999999\n",
      "Epoch 61: Weights = [-0.6  0.9], Bias = -0.8999999999999999\n",
      "Epoch 62: Weights = [-0.5  0.9], Bias = -0.8999999999999999\n",
      "Epoch 63: Weights = [-0.6  0.8], Bias = -0.9999999999999999\n",
      "Epoch 64: Weights = [-0.8  0.7], Bias = -0.9999999999999999\n",
      "Epoch 65: Weights = [-0.6  0.9], Bias = -0.8999999999999999\n",
      "Epoch 66: Weights = [-0.5  0.9], Bias = -0.8999999999999999\n",
      "Epoch 67: Weights = [-0.6  0.8], Bias = -0.9999999999999999\n",
      "Epoch 68: Weights = [-0.8  0.7], Bias = -0.9999999999999999\n",
      "Epoch 69: Weights = [-0.6  0.9], Bias = -0.8999999999999999\n",
      "Epoch 70: Weights = [-0.5  0.9], Bias = -0.8999999999999999\n",
      "Epoch 71: Weights = [-0.6  0.8], Bias = -0.9999999999999999\n",
      "Epoch 72: Weights = [-0.8  0.7], Bias = -0.9999999999999999\n",
      "Epoch 73: Weights = [-0.6  0.9], Bias = -0.8999999999999999\n",
      "Epoch 74: Weights = [-0.5  0.9], Bias = -0.8999999999999999\n",
      "Epoch 75: Weights = [-0.6  0.8], Bias = -0.9999999999999999\n",
      "Epoch 76: Weights = [-0.8  0.7], Bias = -0.9999999999999999\n",
      "Epoch 77: Weights = [-0.6  0.9], Bias = -0.8999999999999999\n",
      "Epoch 78: Weights = [-0.5  0.9], Bias = -0.8999999999999999\n",
      "Epoch 79: Weights = [-0.6  0.8], Bias = -0.9999999999999999\n",
      "Epoch 80: Weights = [-0.8  0.7], Bias = -0.9999999999999999\n",
      "Epoch 81: Weights = [-0.6  0.9], Bias = -0.8999999999999999\n",
      "Epoch 82: Weights = [-0.5  0.9], Bias = -0.8999999999999999\n",
      "Epoch 83: Weights = [-0.6  0.8], Bias = -0.9999999999999999\n",
      "Epoch 84: Weights = [-0.8  0.7], Bias = -0.9999999999999999\n",
      "Epoch 85: Weights = [-0.6  0.9], Bias = -0.8999999999999999\n",
      "Epoch 86: Weights = [-0.5  0.9], Bias = -0.8999999999999999\n",
      "Epoch 87: Weights = [-0.6  0.8], Bias = -0.9999999999999999\n",
      "Epoch 88: Weights = [-0.8  0.7], Bias = -0.9999999999999999\n",
      "Epoch 89: Weights = [-0.6  0.9], Bias = -0.8999999999999999\n",
      "Epoch 90: Weights = [-0.5  0.9], Bias = -0.8999999999999999\n",
      "Epoch 91: Weights = [-0.6  0.8], Bias = -0.9999999999999999\n",
      "Epoch 92: Weights = [-0.8  0.7], Bias = -0.9999999999999999\n",
      "Epoch 93: Weights = [-0.6  0.9], Bias = -0.8999999999999999\n",
      "Epoch 94: Weights = [-0.5  0.9], Bias = -0.8999999999999999\n",
      "Epoch 95: Weights = [-0.6  0.8], Bias = -0.9999999999999999\n",
      "Epoch 96: Weights = [-0.8  0.7], Bias = -0.9999999999999999\n",
      "Epoch 97: Weights = [-0.6  0.9], Bias = -0.8999999999999999\n",
      "Epoch 98: Weights = [-0.5  0.9], Bias = -0.8999999999999999\n",
      "Epoch 99: Weights = [-0.6  0.8], Bias = -0.9999999999999999\n",
      "Epoch 100: Weights = [-0.8  0.7], Bias = -0.9999999999999999\n"
     ]
    }
   ],
   "source": [
    "# Example dataset\n",
    "X = np.array([[1, 2], [2, 3], [3, 1], [4, 3], [2, 1], [3, 3]])\n",
    "y = np.array([1, 1, -1, 1, -1, -1])\n",
    "\n",
    "# Train the perceptron\n",
    "weights, bias = perceptron_learning(X, y)"
   ]
  },
  {
   "cell_type": "code",
   "execution_count": 8,
   "id": "f3df5278",
   "metadata": {},
   "outputs": [
    {
     "name": "stdout",
     "output_type": "stream",
     "text": [
      "Final Weights: [-0.8  0.7]\n",
      "Final Bias: -0.9999999999999999\n"
     ]
    },
    {
     "data": {
      "image/png": "[encoded data removed]",
      "text/plain": [
       "<Figure size 640x480 with 1 Axes>"
      ]
     },
     "metadata": {},
     "output_type": "display_data"
    }
   ],
   "source": [
    "# Print final weights and bias\n",
    "print(\"Final Weights:\", weights)\n",
    "print(\"Final Bias:\", bias)\n",
    "\n",
    "# Plot decision regions\n",
    "plot_decision_regions(X, y, weights, bias)"
   ]
  },
  {
   "cell_type": "code",
   "execution_count": null,
   "id": "ceed10e9",
   "metadata": {},
   "outputs": [],
   "source": []
  }
 ],
 "metadata": {
  "kernelspec": {
   "display_name": ".venv",
   "language": "python",
   "name": "python3"
  },
  "language_info": {
   "codemirror_mode": {
    "name": "ipython",
    "version": 3
   },
   "file_extension": ".py",
   "mimetype": "text/x-python",
   "name": "python",
   "nbconvert_exporter": "python",
   "pygments_lexer": "ipython3",
   "version": "3.11.0"
  }
 },
 "nbformat": 4,
 "nbformat_minor": 5
}
