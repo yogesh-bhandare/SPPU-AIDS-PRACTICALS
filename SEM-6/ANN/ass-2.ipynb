{
 "cells": [
  {
   "cell_type": "code",
   "execution_count": 2,
   "id": "b6fc3861",
   "metadata": {},
   "outputs": [],
   "source": [
    "import numpy as np"
   ]
  },
  {
   "cell_type": "code",
   "execution_count": 3,
   "id": "7393eb9d",
   "metadata": {},
   "outputs": [],
   "source": [
    "# Define the McCulloch-Pitts neuron\n",
    "def mcculloch_pitts_neuron(inputs, weights, threshold):\n",
    "    # Calculate the weighted sum of inputs\n",
    "    weighted_sum = np.dot(inputs, weights)\n",
    "    # Apply the threshold function\n",
    "    output = 1 if weighted_sum >= threshold else 0\n",
    "    return output"
   ]
  },
  {
   "cell_type": "code",
   "execution_count": 4,
   "id": "a21f46ce",
   "metadata": {},
   "outputs": [],
   "source": [
    "# Define the ANDNOT function\n",
    "def andnot_function(x1, x2):\n",
    "    # Define weights and threshold for ANDNOT\n",
    "    weights = [1, -1]  # Weight for x1 is 1, weight for x2 is -1\n",
    "    threshold = 1      # Threshold for ANDNOT\n",
    "    # Input vector\n",
    "    inputs = np.array([x1, x2])\n",
    "    # Get the output from the McCulloch-Pitts neuron\n",
    "    output = mcculloch_pitts_neuron(inputs, weights, threshold)\n",
    "    return output"
   ]
  },
  {
   "cell_type": "code",
   "execution_count": 5,
   "id": "e991a134",
   "metadata": {},
   "outputs": [
    {
     "name": "stdout",
     "output_type": "stream",
     "text": [
      "ANDNOT Truth Table:\n",
      "x1 | x2 | ANDNOT(x1, x2)\n",
      "------------------------\n",
      "0  | 0  | 0\n",
      "0  | 1  | 0\n",
      "1  | 0  | 1\n",
      "1  | 1  | 0\n"
     ]
    }
   ],
   "source": [
    "# Test the ANDNOT function\n",
    "print(\"ANDNOT Truth Table:\")\n",
    "print(\"x1 | x2 | ANDNOT(x1, x2)\")\n",
    "print(\"------------------------\")\n",
    "for x1 in [0, 1]:\n",
    "    for x2 in [0, 1]:\n",
    "        result = andnot_function(x1, x2)\n",
    "        print(f\"{x1}  | {x2}  | {result}\")"
   ]
  },
  {
   "cell_type": "code",
   "execution_count": null,
   "id": "f3df5278",
   "metadata": {},
   "outputs": [],
   "source": []
  }
 ],
 "metadata": {
  "kernelspec": {
   "display_name": ".venv",
   "language": "python",
   "name": "python3"
  },
  "language_info": {
   "codemirror_mode": {
    "name": "ipython",
    "version": 3
   },
   "file_extension": ".py",
   "mimetype": "text/x-python",
   "name": "python",
   "nbconvert_exporter": "python",
   "pygments_lexer": "ipython3",
   "version": "3.11.0"
  }
 },
 "nbformat": 4,
 "nbformat_minor": 5
}
